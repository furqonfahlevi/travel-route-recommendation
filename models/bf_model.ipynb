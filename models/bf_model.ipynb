{
 "cells": [
  {
   "attachments": {},
   "cell_type": "markdown",
   "metadata": {},
   "source": [
    "parameter tune\n",
    "- tour terbanyak\n",
    "- day\n",
    "- time \n",
    "\n",
    "\n",
    "experiment\n",
    "- tour terbanyak / epoch\n",
    "- day / epoch\n",
    "- time / epoch"
   ]
  },
  {
   "cell_type": "code",
   "execution_count": 2,
   "metadata": {},
   "outputs": [],
   "source": [
    "import numpy as np\n",
    "from pprint import pprint\n",
    "from copy import deepcopy\n",
    "from utils.base_model import BaseModel\n",
    "from mealpy.custom_based.CustomBF import BF"
   ]
  },
  {
   "cell_type": "code",
   "execution_count": 12,
   "metadata": {},
   "outputs": [
    {
     "name": "stderr",
     "output_type": "stream",
     "text": [
      "2022/12/19 06:48:23 PM, INFO, mealpy.custom_based.CustomBF.BF: Solving single objective optimization problem.\n",
      "2022/12/19 06:55:40 PM, INFO, mealpy.custom_based.CustomBF.BF: >Problem: P, Epoch: 1, Current best: 0.035241129267299685, Global best: 0.035241129267299685, Runtime: 56.54245 seconds\n"
     ]
    },
    {
     "name": "stdout",
     "output_type": "stream",
     "text": [
      "\n",
      "Day-1 Current Best solution: [1, 0, 6, 9, 3, 2, 4, 8] - [1, 0, 6, 9, 3, 2, 4, 8], Obj = Total Distance: 0.035241129267299685, pop_size: 3628800\n",
      "\n",
      "Final Best solution: [[[Place id: 1 -> Name: Tourism Zone Malioboro, Type: Tourist Attraction, Rating: 4.7, Cost: 0, Spend Time (s): 3600, Place id: 0 -> Name: MALIOBORO JOGJAKARTA, Type: Tourist Attraction, Rating: 4.8, Cost: 0, Spend Time (s): 5400, Place id: 6 -> Name: Titik Nol Km Yogyakarta, Type: Tourist Attraction, Rating: 4.8, Cost: 0, Spend Time (s): 3600, Place id: 9 -> Name: Yogyakarta Northern Square, Type: Tourist Attraction, Rating: 4.6, Cost: 0, Spend Time (s): 3600, Place id: 3 -> Name: Bringin Kembar Yogyakarta, Type: Tourist Attraction, Rating: 4.6, Cost: 0, Spend Time (s): 5400, Place id: 2 -> Name: Plengkung Gading, Type: Tourist Attraction, Rating: 4.6, Cost: 0, Spend Time (s): 1800, Place id: 4 -> Name: Rumah Hantu Malioboro, Type: Tourist Attraction, Rating: 4.5, Cost: 25000, Spend Time (s): 2700, Place id: 8 -> Name: Tarunasura Wijilan Gate, Type: Tourist Attraction, Rating: 4.7, Cost: 0, Spend Time (s): 1800], 0.035241129267299685]]\n"
     ]
    }
   ],
   "source": [
    "## Setting parameters\n",
    "base_params = {\n",
    "    \"model\": BF,\n",
    "    \"maut_weights\" : {\n",
    "        \"popular\" : 1,\n",
    "        \"cost\" : 1,\n",
    "        \"time\" : 1\n",
    "    },\n",
    "    \"time_start\": 8,\n",
    "    \"time_end\": 20,\n",
    "    \n",
    "    \"n_days\": 50,\n",
    "    \"hotel_id\": 5,\n",
    "    # \"tour_ids\": [0, 2, 4, 6, 7, 8, 9, 20, 23, 25, 29, 30, 31, 32, 33, 35, 40, 55, 42, 56],\n",
    "    \"tour_ids\": list(range(0, 100)),\n",
    "    \n",
    "    \"minmax\": \"max\",\n",
    "    \"log_to\": \"console\",\n",
    "}\n",
    "model_params = {\n",
    "    \"epoch\": 1,           # iteration\n",
    "}\n",
    "model = BaseModel(base_params=base_params, model_params=model_params)\n",
    "model.train()\n"
   ]
  },
  {
   "cell_type": "code",
   "execution_count": 13,
   "metadata": {},
   "outputs": [
    {
     "name": "stdout",
     "output_type": "stream",
     "text": [
      "\n",
      "Day 1\n",
      "1 4.7 0 119.0 119.0 [0, 1] [24, 0] 28919.0 8:0 8:2\n",
      "0 4.8 0 5622.0 222.0 [0, 1] [24, 0] 34541.0 9:32 9:36\n",
      "6 4.8 0 3687.0 87.0 [0, 1] [24, 0] 38228.0 10:36 10:37\n",
      "9 4.6 0 3963.0 363.0 [0, 1] [24, 0] 42191.0 11:37 11:43\n",
      "3 4.6 0 5449.0 49.0 [0, 1] [24, 0] 47640.0 13:13 13:14\n",
      "2 4.6 0 2502.0 702.0 [0, 1] [24, 0] 50142.0 13:44 13:56\n",
      "4 4.5 25000 2948.0 248.0 [16, 0] [18, 0] 53090.0 14:41 14:45\n",
      "To Hotels - 72000 15\n",
      "8 4.7 0 2512.0 712.0 [0, 1] [24, 0] 55602.0 15:15 15:27\n",
      "15.0\n",
      "\n",
      "Outlier\n",
      "[[[Place id: 5 -> Name: Fort Vredeburg Museum, Type: Tourist Attraction, Rating: 4.6, Cost: 3000, Spend Time (s): 7200,\n",
      "   Place id: 7 -> Name: Museum Sonobudoyo Unit I, Type: Tourist Attraction, Rating: 4.7, Cost: 3000, Spend Time (s): 7200],\n",
      "  0]]\n"
     ]
    }
   ],
   "source": [
    "print(f\"Count Node: {len(np.hstack([x[0] for x in model.best_solution]))}\")\n",
    "for idx, day in enumerate(model.best_solution):\n",
    "    print(\"\\nDay\", idx+1)\n",
    "    total_time = 8*3600\n",
    "    tour_nodes = day[0]\n",
    "    for i in range(len(tour_nodes)):\n",
    "        time = 0\n",
    "        spend_time = 0\n",
    "        if i == 0:\n",
    "            time = model.conn.get_hotel_dist_matrix(origin_id=model.hotel_node.id, dest_id=tour_nodes[i].id, hotel2tour=True)\n",
    "            spend_time = 0\n",
    "        elif i+1 == len(tour_nodes):\n",
    "            spend_time = tour_nodes[i].spend_time\n",
    "            time = model.conn.get_hotel_dist_matrix(origin_id=model.hotel_node.id, dest_id=tour_nodes[i].id, hotel2tour=False)+spend_time\n",
    "            print(\"To Hotels -\", 20*3600, int(np.floor((total_time+time)/3600)))\n",
    "        else:\n",
    "            spend_time = tour_nodes[i].spend_time\n",
    "            time = model.conn.get_tour_dist_matrix(origin_id=tour_nodes[i].id, dest_id=tour_nodes[i+1].id)+spend_time\n",
    "        total_time += time\n",
    "        \n",
    "        jam_berangkat = f\"{int(np.floor((total_time-(time-spend_time))/3600))}:{int(np.round(((total_time-(time-spend_time))%3600)/60))}\"\n",
    "        jam_sampai = f\"{int(np.floor(total_time/3600))}:{int(np.round((total_time%3600)/60))}\"\n",
    "        print(tour_nodes[i].id, tour_nodes[i].rating, tour_nodes[i].tarif, time, (time-spend_time), tour_nodes[i].jam_buka, tour_nodes[i].jam_tutup, total_time, jam_berangkat, jam_sampai)\n",
    "\n",
    "    print(np.round(total_time/3600))\n",
    "    \n",
    "if len(model.outlier_solution) != 0:\n",
    "    print(\"\\nOutlier\")\n",
    "    pprint(model.outlier_solution)"
   ]
  },
  {
   "cell_type": "code",
   "execution_count": null,
   "metadata": {},
   "outputs": [],
   "source": []
  }
 ],
 "metadata": {
  "kernelspec": {
   "display_name": "Python 3.9.12 ml",
   "language": "python",
   "name": "ml"
  },
  "language_info": {
   "codemirror_mode": {
    "name": "ipython",
    "version": 3
   },
   "file_extension": ".py",
   "mimetype": "text/x-python",
   "name": "python",
   "nbconvert_exporter": "python",
   "pygments_lexer": "ipython3",
   "version": "3.8.13"
  },
  "orig_nbformat": 4,
  "vscode": {
   "interpreter": {
    "hash": "145aff75fd649df54e86a7b3ab36bec3be40dde7459cf88fce0a12c88bd14134"
   }
  }
 },
 "nbformat": 4,
 "nbformat_minor": 2
}
