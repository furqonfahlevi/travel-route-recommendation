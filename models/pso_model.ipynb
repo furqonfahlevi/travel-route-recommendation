{
 "cells": [
  {
   "attachments": {},
   "cell_type": "markdown",
   "metadata": {},
   "source": [
    "parameter tune\n",
    "- tour terbanyak\n",
    "- day\n",
    "- time \n",
    "\n",
    "\n",
    "experiment\n",
    "- tour terbanyak / epoch\n",
    "- day / epoch\n",
    "- time / epoch\n"
   ]
  },
  {
   "cell_type": "code",
   "execution_count": null,
   "metadata": {},
   "outputs": [],
   "source": [
    "import numpy as np\n",
    "from pprint import pprint\n",
    "from copy import deepcopy\n",
    "from utils.base_model import BaseModel\n",
    "from mealpy.swarm_based.PSO import OriginalPSO"
   ]
  },
  {
   "cell_type": "code",
   "execution_count": null,
   "metadata": {},
   "outputs": [],
   "source": [
    "## Setting parameters\n",
    "base_params = {\n",
    "    \"model\": OriginalPSO,\n",
    "    \"maut_weights\" : {\n",
    "        \"popular\" : 1,\n",
    "        \"cost\" : 1,\n",
    "        \"time\" : 1\n",
    "    },\n",
    "    \"time_start\": 8,\n",
    "    \"time_end\": 20,\n",
    "    \n",
    "    \"n_days\": 50,\n",
    "    \"hotel_id\": 5,\n",
    "    # \"tour_ids\": [0, 2, 4, 6, 7, 8, 9, 20, 23, 25, 29, 30, 31, 32, 33, 35, 40, 55, 42, 56],\n",
    "    \"tour_ids\": list(range(0, 100)),\n",
    "    \n",
    "    \"minmax\": \"max\",\n",
    "    \"log_to\": \"console\",\n",
    "}\n",
    "model_params = {\n",
    "    \"epoch\": 30,           # iteration\n",
    "    \"pop_size\": 50,        # population size\n",
    "    \"c1\": 2.05,\n",
    "    \"c2\": 2.05,\n",
    "    \"w_min\": 0.4,\n",
    "    \"w_max\": 0.9,\n",
    "}\n",
    "model = BaseModel(base_params=base_params, model_params=model_params)"
   ]
  },
  {
   "cell_type": "code",
   "execution_count": null,
   "metadata": {},
   "outputs": [],
   "source": [
    "# ----Tuning\n",
    "model_params_tune = {\n",
    "    # \"epoch\": [15, 30, 50],\n",
    "    \"pop_size\": [25, 50, 100],\n",
    "    \"c1\": 2.05,\n",
    "    \"c2\": 2.05,\n",
    "    \"w_min\": 0.4,\n",
    "    \"w_max\": 0.9,\n",
    "}\n",
    "num_test = 5\n",
    "log_directory = \"logs/params\"\n",
    "file_name = \"pso\"\n",
    "model.params_tuner(\n",
    "    model_params_tuning=model_params_tune,\n",
    "    num_test=num_test,\n",
    "    log_directory=log_directory,\n",
    "    file_name=file_name\n",
    ")\n",
    "model.params_tuner(model_params_tune)"
   ]
  },
  {
   "cell_type": "code",
   "execution_count": null,
   "metadata": {},
   "outputs": [],
   "source": [
    "# Try to Train with new best Params or default params\n",
    "model_params = {\n",
    "    \"epoch\": 30,           # iteration\n",
    "    \"pop_size\": 50,        # population size\n",
    "    \"c1\": 2.05,\n",
    "    \"c2\": 2.05,\n",
    "    \"w_min\": 0.4,\n",
    "    \"w_max\": 0.9,\n",
    "}\n",
    "model.train(model_params)"
   ]
  },
  {
   "cell_type": "code",
   "execution_count": null,
   "metadata": {},
   "outputs": [],
   "source": [
    "print(f\"Count Node: {len(np.hstack([x[0] for x in model.best_solution]))}\")\n",
    "for idx, day in enumerate(model.best_solution):\n",
    "    print(\"\\nDay\", idx+1)\n",
    "    total_time = 8*3600\n",
    "    tour_nodes = day[0]\n",
    "    for i in range(len(tour_nodes)):\n",
    "        time = 0\n",
    "        spend_time = 0\n",
    "        if i == 0:\n",
    "            time = model.conn.get_hotel_dist_matrix(origin_id=model.hotel_node.id, dest_id=tour_nodes[i].id, hotel2tour=True)\n",
    "            spend_time = 0\n",
    "        elif i+1 == len(tour_nodes):\n",
    "            spend_time = tour_nodes[i].spend_time\n",
    "            time = model.conn.get_hotel_dist_matrix(origin_id=model.hotel_node.id, dest_id=tour_nodes[i].id, hotel2tour=False)+spend_time\n",
    "            print(\"To Hotels -\", 20*3600, int(np.floor((total_time+time)/3600)))\n",
    "        else:\n",
    "            spend_time = tour_nodes[i].spend_time\n",
    "            time = model.conn.get_tour_dist_matrix(origin_id=tour_nodes[i].id, dest_id=tour_nodes[i+1].id)+spend_time\n",
    "        total_time += time\n",
    "        \n",
    "        jam_berangkat = f\"{int(np.floor((total_time-(time-spend_time))/3600))}:{int(np.round(((total_time-(time-spend_time))%3600)/60))}\"\n",
    "        jam_sampai = f\"{int(np.floor(total_time/3600))}:{int(np.round((total_time%3600)/60))}\"\n",
    "        print(tour_nodes[i].id, tour_nodes[i].rating, tour_nodes[i].tarif, time, (time-spend_time), tour_nodes[i].jam_buka, tour_nodes[i].jam_tutup, total_time, jam_berangkat, jam_sampai)\n",
    "\n",
    "    print(np.round(total_time/3600))\n",
    "    \n",
    "if len(model.outlier_solution) != 0:\n",
    "    print(\"\\nOutlier\")\n",
    "    pprint(model.outlier_solution)"
   ]
  },
  {
   "attachments": {},
   "cell_type": "markdown",
   "metadata": {},
   "source": [
    "# Experiment"
   ]
  },
  {
   "cell_type": "code",
   "execution_count": null,
   "metadata": {},
   "outputs": [],
   "source": [
    "model_params = {\n",
    "    \"epoch\": 30,           # iteration\n",
    "    \"pop_size\": 50,        # population size\n",
    "    \"c1\": 2.05,\n",
    "    \"c2\": 2.05,\n",
    "    \"w_min\": 0.4,\n",
    "    \"w_max\": 0.9,\n",
    "}\n",
    "maut_weights = {\n",
    "    \"popular\" : 1,\n",
    "    \"cost\" : 1,\n",
    "    \"time\" : 1\n",
    "}\n",
    "num_test_epoch_list = [10, 15, 25, 50, 75, 100, 150, 250, 500, 750]\n",
    "num_test = 5\n",
    "log_directory = \"logs/experiment\"\n",
    "file_name = \"pso_weight_p1_c1_t1\"\n",
    "model.experiment(\n",
    "    model_params=model_params,\n",
    "    maut_weights=maut_weights,\n",
    "    num_test_epoch_list=num_test_epoch_list,\n",
    "    num_test=num_test,\n",
    "    log_directory=log_directory,\n",
    "    file_name=file_name\n",
    ")"
   ]
  },
  {
   "cell_type": "code",
   "execution_count": null,
   "metadata": {},
   "outputs": [],
   "source": []
  }
 ],
 "metadata": {
  "kernelspec": {
   "display_name": "Python 3.9.12 ml",
   "language": "python",
   "name": "ml"
  },
  "language_info": {
   "codemirror_mode": {
    "name": "ipython",
    "version": 3
   },
   "file_extension": ".py",
   "mimetype": "text/x-python",
   "name": "python",
   "nbconvert_exporter": "python",
   "pygments_lexer": "ipython3",
   "version": "3.8.13"
  },
  "orig_nbformat": 4,
  "vscode": {
   "interpreter": {
    "hash": "145aff75fd649df54e86a7b3ab36bec3be40dde7459cf88fce0a12c88bd14134"
   }
  }
 },
 "nbformat": 4,
 "nbformat_minor": 2
}
